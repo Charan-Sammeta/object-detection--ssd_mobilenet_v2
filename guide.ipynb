{
 "cells": [
  {
   "cell_type": "markdown",
   "metadata": {},
   "source": [
    "**Creating Virtual Environment**"
   ]
  },
  {
   "cell_type": "markdown",
   "metadata": {},
   "source": [
    "Inorder to perform object detection task it is prefred to create a virtual environment and work in it so that there will be no issues regarding compatability and version changes"
   ]
  },
  {
   "cell_type": "code",
   "execution_count": null,
   "metadata": {},
   "outputs": [],
   "source": [
    "#I used anaconda prompt for the commands we can also use jupyter notebook \n",
    "conda create -n mytf pip python=3.9   # here mytf is the name i gave for my environment"
   ]
  },
  {
   "cell_type": "code",
   "execution_count": null,
   "metadata": {},
   "outputs": [],
   "source": [
    "conda activate mytf      # used to activate the created environment and ready to work in it"
   ]
  },
  {
   "cell_type": "markdown",
   "metadata": {},
   "source": [
    "Before going to the next step, I downloaded the tensorflow model garden from github using the command git clone"
   ]
  },
  {
   "cell_type": "code",
   "execution_count": null,
   "metadata": {},
   "outputs": [],
   "source": [
    "!git clone https://github.com/tensorflow/models.git"
   ]
  },
  {
   "cell_type": "code",
   "execution_count": null,
   "metadata": {},
   "outputs": [],
   "source": [
    "cd D:/new/models/research    # ----> navigate to the research folder which is present in models"
   ]
  },
  {
   "cell_type": "markdown",
   "metadata": {},
   "source": [
    "Here i used a python file named use_protobuf.py.  \n",
    "copy the file and paste it in research folder."
   ]
  },
  {
   "cell_type": "code",
   "execution_count": null,
   "metadata": {},
   "outputs": [],
   "source": [
    "python use_protobuf.py object_detection/protos protoc # ---> compiling protoc, do this in research directory "
   ]
  },
  {
   "cell_type": "markdown",
   "metadata": {},
   "source": [
    "In the next step i copied the setup.py file from TF2 folder\n",
    "\n",
    "which is present in the object_detection folder and pasted back in research folder.\n",
    "\n",
    "(object_detection --> TF2 --> setup.py)."
   ]
  },
  {
   "cell_type": "code",
   "execution_count": null,
   "metadata": {},
   "outputs": [],
   "source": [
    "python -m pip install .  #---> this should install all the required modules"
   ]
  },
  {
   "cell_type": "code",
   "execution_count": null,
   "metadata": {},
   "outputs": [],
   "source": [
    "python object_detection/builders/model_builder_tf2_test.py  #---> of this runs perfectly the environment is ready to use."
   ]
  },
  {
   "cell_type": "markdown",
   "metadata": {},
   "source": [
    "New/\n",
    "\n",
    "├─ models/\n",
    "\n",
    "│  ├─ community/\n",
    "\n",
    "│  ├─ official/\n",
    "\n",
    "│  ├─ orbit/\n",
    "\n",
    "│  ├─ research/\n",
    "\n",
    "│  └─ ...\n",
    "\n",
    "└─ workspace/\n",
    "\n",
    "   └─ training_demo/\n",
    "\n",
    "This is how my directory looks like. And also create folders in training_demo as this \n",
    "\n",
    "training_demo/\n",
    "\n",
    "├─ annotations/\n",
    "\n",
    "├─ exported-models/\n",
    "\n",
    "├─ images/\n",
    "\n",
    "│  ├─ test/\n",
    "\n",
    "│  └─ train/\n",
    "\n",
    "├─ models/\n",
    "\n",
    "├─ pre-trained-models/\n",
    "\n",
    "I have my files label_map.pbtxt and generated train and test tfrecords using generate_tf.py in annotations folder\n",
    "In the models folder in training_demo i have my ssd mobilenet and the pipeline configuration file i make changes\n",
    "Pre-trained-models folder is for the models that i downloaded from model zoo and extracted here. \n"
   ]
  },
  {
   "cell_type": "markdown",
   "metadata": {},
   "source": [
    "Below commands used to generate tfrecords from the generate_tfrecord.py script.\n",
    "for both train and test."
   ]
  },
  {
   "cell_type": "code",
   "execution_count": null,
   "metadata": {},
   "outputs": [],
   "source": [
    "# Create train data:\n",
    "python generate_tfrecord.py -x D:/new/workspace/training_demo/images/train -l D:/new/workspace/training_demo/annotations/label_map.pbtxt -o D:/new/workspace/training_demo/annotations/train.record\n",
    "\n",
    "# Create test data:\n",
    "python generate_tfrecord.py -x D:/new/workspace/training_demo/images/test -l D:/new/workspace/training_demo/annotations/label_map.pbtxt -o D:/new/workspace/training_demo/annotations/test.record"
   ]
  },
  {
   "cell_type": "markdown",
   "metadata": {},
   "source": [
    "After downloading the ssd_mobilenet_v2 copy the pipeline config file and paste it in models folder where i have my_ssd_mobilenet folder."
   ]
  },
  {
   "cell_type": "markdown",
   "metadata": {},
   "source": [
    "Changes made in pipeline config file:\n",
    "\n",
    "num_classses = 6 \n",
    "\n",
    "Fine tune checkpoint = \"D:/new/workspace/training_demo/pre-trained-models/ssd_mobilenet_v2_320x320_coco17_tpu-8/checkpoint/ckpt-0\"\n"
   ]
  },
  {
   "cell_type": "markdown",
   "metadata": {},
   "source": [
    "fine_tune_checkpoint_type: \"detection\""
   ]
  },
  {
   "cell_type": "markdown",
   "metadata": {},
   "source": [
    "label_map_path: \"D:/new/workspace/training_demo/annotations/label_map.pbtxt\"\n",
    "\n",
    "input_path: \"D:/new/workspace/training_demo/annotations/train.record\"     #---> tf_record_input_reader for train_input_reader\n",
    "\n",
    "\n",
    "label_map_path: \"D:/new/workspace/training_demo/annotations/label_map.pbtxt\"\n",
    "\n",
    "input_path: \"D:/new/workspace/training_demo/annotations/test.record\"  #---> tf_record_input_reader for eval_input_reader"
   ]
  },
  {
   "cell_type": "code",
   "execution_count": null,
   "metadata": {},
   "outputs": [],
   "source": [
    "#Training of model takes place \n",
    "python model_main_tf2.py --model_dir=models/my_ssd_mobilenet --pipeline_config_path=models/my_ssd_mobilenet/pipeline.config "
   ]
  },
  {
   "cell_type": "code",
   "execution_count": null,
   "metadata": {},
   "outputs": [],
   "source": [
    "#evaluation \n",
    "python model_main_tf2.py --model_dir=models/my_ssd_mobilenet --pipeline_config_path=models/my_ssd_mobilenet/pipeline.config --checkpoint_dir=models/my_ssd_mobilenet"
   ]
  },
  {
   "cell_type": "code",
   "execution_count": null,
   "metadata": {},
   "outputs": [],
   "source": [
    "#Tensorbpard is opened and we can visualize the training and evaluation progress\n",
    "tensorboard --logdir=models/my_ssd_mobilenet"
   ]
  }
 ],
 "metadata": {
  "kernelspec": {
   "display_name": "Python 3",
   "language": "python",
   "name": "python3"
  },
  "language_info": {
   "codemirror_mode": {
    "name": "ipython",
    "version": 3
   },
   "file_extension": ".py",
   "mimetype": "text/x-python",
   "name": "python",
   "nbconvert_exporter": "python",
   "pygments_lexer": "ipython3",
   "version": "3.11.4"
  }
 },
 "nbformat": 4,
 "nbformat_minor": 2
}
